{
 "cells": [
  {
   "cell_type": "markdown",
   "id": "e48c98ff-9c1a-4aca-bf9b-4861ff6bf961",
   "metadata": {},
   "source": [
    "### 0. 有哪些 E, Q"
   ]
  },
  {
   "cell_type": "code",
   "execution_count": 1,
   "id": "c57f308f-86a4-4b3e-977f-d3f148e417eb",
   "metadata": {},
   "outputs": [
    {
     "name": "stdout",
     "output_type": "stream",
     "text": [
      "E[0]: [('0_1_E_', '../new_data/cut_style:america/0_1_E_.jpg')]... 有 698 個\n",
      "Q[0]: [('0_1_Q_', '../new_data/cut_style:america/0_1_Q_.jpg')]... 有 698 個\n",
      "E[1]: [('1_1_E_', '../new_data/cut_style:japan/1_1_E_.jpg')]... 有 698 個\n",
      "Q[1]: [('1_1_Q_', '../new_data/cut_style:japan/1_1_Q_.jpg')]... 有 698 個\n",
      "E[2]: [('2_2_E_', '../new_data/cut_style:korea/2_2_E_.jpg')]... 有 698 個\n",
      "Q[2]: [('2_2_Q_', '../new_data/cut_style:korea/2_2_Q_.jpg')]... 有 698 個\n"
     ]
    }
   ],
   "source": [
    "import csv\n",
    "\n",
    "num_types = 3\n",
    "num_elements = 698\n",
    "half_elements = int(num_elements/2)\n",
    "\n",
    "# E(3, 698), Q(3, 698)\n",
    "#E = {t: [f\"{t}_{i}_E_\" for i in range(num_elements)] for t in range(num_types)}\n",
    "#Q = {t: [f\"{t}_{i}_Q_\" for i in range(num_elements)] for t in range(num_types)}\n",
    "\n",
    "E = {0: [], 1: [], 2: []}\n",
    "Q = {0: [], 1: [], 2: []}\n",
    "\n",
    "# read\n",
    "good_outfits_file = 'good_outfits.csv'\n",
    "\n",
    "with open(good_outfits_file, mode='r') as file:\n",
    "    reader = csv.DictReader(file)\n",
    "    for row in reader:\n",
    "        index = row['index']\n",
    "        img_pathE = row['img_pathE']\n",
    "        img_pathQ = row['img_pathQ']\n",
    "        \n",
    "        type_number = int(index.split('_')[0])\n",
    "        E[type_number].append((f\"{index}_E_\", img_pathE))\n",
    "        Q[type_number].append((f\"{index}_Q_\", img_pathQ))\n",
    "\n",
    "for t in range(3):\n",
    "    print(f\"E[{t}]: {E[t][:1]}... 有 {len(E[t])} 個\")\n",
    "    print(f\"Q[{t}]: {Q[t][:1]}... 有 {len(Q[t])} 個\")"
   ]
  },
  {
   "cell_type": "markdown",
   "id": "87706a77-44a0-40d6-b909-737897f09589",
   "metadata": {
    "tags": []
   },
   "source": [
    "### 2. random"
   ]
  },
  {
   "cell_type": "code",
   "execution_count": 2,
   "id": "d447a4f5-1e90-43cb-9910-6289dbd77f07",
   "metadata": {},
   "outputs": [
    {
     "name": "stdout",
     "output_type": "stream",
     "text": [
      "outfits shape: (2094, 2)\n",
      "outfits: [(('0_579_E_', '../new_data/cut_style:america/0_579_E_.jpg'), ('1_997_Q_', '../new_data/cut_style:japan/1_997_Q_.jpg'))]... \n"
     ]
    }
   ],
   "source": [
    "import random\n",
    "random.seed(42)\n",
    "\n",
    "outfits = []\n",
    "\n",
    "for i in range(num_types):\n",
    "    random.shuffle(E[i])\n",
    "    random.shuffle(Q[i])\n",
    "\n",
    "# E: type 0, Q: type 1, 2\n",
    "for i in range(half_elements):\n",
    "    outfits.append((E[0][i], Q[1][i]))  # 前 349 個 type 0 的上衣，配前 349 個 type 1 的下衣\n",
    "    outfits.append((E[0][half_elements + i], Q[2][i]))  # 後 349 個 type 0 的上衣，配前 349 個 type 2 的下衣\n",
    "\n",
    "# E: type 1, Q: type 0, 2\n",
    "for i in range(half_elements):\n",
    "    outfits.append((E[1][i], Q[0][i]))\n",
    "    outfits.append((E[1][half_elements + i], Q[2][half_elements + i]))\n",
    "\n",
    "# E: type 2, Q: type 0, 1\n",
    "for i in range(half_elements):\n",
    "    outfits.append((E[2][i], Q[0][half_elements + i]))\n",
    "    outfits.append((E[2][half_elements + i], Q[1][half_elements + i]))\n",
    "\n",
    "print(f\"outfits shape: {len(outfits), len(outfits[0])}\")\n",
    "print(f\"outfits: {outfits[:1]}... \")"
   ]
  },
  {
   "cell_type": "markdown",
   "id": "bec12605-2ad8-460c-9086-27936dd4ed03",
   "metadata": {
    "tags": []
   },
   "source": [
    "### 3. check"
   ]
  },
  {
   "cell_type": "code",
   "execution_count": 3,
   "id": "054b67f5-8e58-43ba-a5ff-7cd9f4b64b44",
   "metadata": {},
   "outputs": [
    {
     "name": "stdout",
     "output_type": "stream",
     "text": [
      "所有元素都在 outfits 裡面\n"
     ]
    }
   ],
   "source": [
    "all_elements = set()  # 原始有的元素\n",
    "for t in range(num_types):\n",
    "    all_elements.update(E[t])\n",
    "    all_elements.update(Q[t])\n",
    "\n",
    "outfit_elements = set()  # random outfits 有的元素\n",
    "for e, q in outfits:\n",
    "    outfit_elements.add(e)\n",
    "    outfit_elements.add(q)\n",
    "\n",
    "if all_elements == outfit_elements:\n",
    "    print(\"所有元素都在 outfits 裡面\")\n",
    "else:\n",
    "    print(\"有些元素不在 outfits 裡面\")\n",
    "    missing_elements = all_elements - outfit_elements\n",
    "    print(f\"有 {len(missing_elements)} 個 miss 掉的元素: {missing_elements}\")"
   ]
  },
  {
   "cell_type": "markdown",
   "id": "fee8bc3d-62ae-4354-b0c5-cd57e33dd7cb",
   "metadata": {
    "tags": []
   },
   "source": [
    "### 3. output csv file（要改 `TYPE_E_PATH`, `TYPE_Q_PATH`, `FILE_TYPE`）"
   ]
  },
  {
   "cell_type": "code",
   "execution_count": 4,
   "id": "20b0f171-7939-48e2-82cb-22df33cf0e21",
   "metadata": {},
   "outputs": [
    {
     "name": "stdout",
     "output_type": "stream",
     "text": [
      "2094 組糟糕的 outfits 儲存在 'bad_outfits.csv' 檔案中\n"
     ]
    }
   ],
   "source": [
    "import csv\n",
    "\n",
    "# define IMAGE PATH\n",
    "#TYPE_E_PATH = ['...TYPE0E_PATH/', '...TYPE1E_PATH/', '...TYPE2E_PATH/']\n",
    "#TYPE_Q_PATH = ['...TYPE0Q_PATH/', '...TYPE1Q_PATH/', '...TYPE2Q_PATH/']\n",
    "#FILE_TYPE = '.png'\n",
    "\n",
    "output_csv_file = 'bad_outfits.csv'\n",
    "\n",
    "# write csv file\n",
    "with open(output_csv_file, mode='w', newline='') as file:\n",
    "    writer = csv.writer(file)\n",
    "    \n",
    "    # header\n",
    "    writer.writerow(['idxE', 'idxQ', 'img_pathE', 'img_pathQ'])\n",
    "    \n",
    "    # rows\n",
    "    for (idxE, img_pathE), (idxQ, img_pathQ) in outfits:\n",
    "        #img_pathE = TYPE_E_PATH[int(idxE[0])] + idxE + FILE_TYPE\n",
    "        #img_pathQ = TYPE_Q_PATH[int(idxQ[0])] + idxQ + FILE_TYPE\n",
    "        writer.writerow([idxE, idxQ, img_pathE, img_pathQ])\n",
    "\n",
    "print(f\"{len(outfits)} 組糟糕的 outfits 儲存在 '{output_csv_file}' 檔案中\")"
   ]
  },
  {
   "cell_type": "markdown",
   "id": "eea7c31a-e1e2-4b37-9794-0ef9d4b35eb1",
   "metadata": {},
   "source": [
    "### 4. end"
   ]
  }
 ],
 "metadata": {
  "kernelspec": {
   "display_name": "Python 3 (ipykernel)",
   "language": "python",
   "name": "python3"
  },
  "language_info": {
   "codemirror_mode": {
    "name": "ipython",
    "version": 3
   },
   "file_extension": ".py",
   "mimetype": "text/x-python",
   "name": "python",
   "nbconvert_exporter": "python",
   "pygments_lexer": "ipython3",
   "version": "3.9.12"
  }
 },
 "nbformat": 4,
 "nbformat_minor": 5
}
