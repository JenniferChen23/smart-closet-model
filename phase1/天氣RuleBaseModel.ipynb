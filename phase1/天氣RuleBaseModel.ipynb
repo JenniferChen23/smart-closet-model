{
 "cells": [
  {
   "cell_type": "markdown",
   "id": "5a838606",
   "metadata": {},
   "source": [
    "### 輸入所在地獲取現在天氣資訊"
   ]
  },
  {
   "cell_type": "code",
   "execution_count": 1,
   "id": "b615085c",
   "metadata": {},
   "outputs": [
    {
     "name": "stderr",
     "output_type": "stream",
     "text": [
      "C:\\Users\\chen\\anaconda3\\Lib\\site-packages\\pandas\\core\\arrays\\masked.py:60: UserWarning: Pandas requires version '1.3.6' or newer of 'bottleneck' (version '1.3.5' currently installed).\n",
      "  from pandas.core import (\n"
     ]
    },
    {
     "name": "stdout",
     "output_type": "stream",
     "text": [
      "{'體感溫度': '36', '溫度': '31', '舒適度指數': '29', '天氣預報綜合描述': '晴。降雨機率 20%。溫度攝氏31度。悶熱。偏東風 平均風速<= 1級(每秒1公尺)。相對濕度79%。', '6小時降雨機率': '20'}\n"
     ]
    },
    {
     "name": "stderr",
     "output_type": "stream",
     "text": [
      "C:\\Users\\chen\\AppData\\Local\\Temp\\ipykernel_21280\\2665517621.py:34: FutureWarning: Passing literal json to 'read_json' is deprecated and will be removed in a future version. To read from a literal string, wrap it in a 'StringIO' object.\n",
      "  data = pd.read_json(response.text)\n"
     ]
    }
   ],
   "source": [
    "def getWeatherData(city, place, current_Time=None):\n",
    "    import requests\n",
    "    import json\n",
    "    import pandas as pd\n",
    "    from datetime import datetime, timedelta\n",
    "    import time\n",
    "\n",
    "    district = {\n",
    "        '宜蘭縣': '01', '桃園市': '05', '臺北市': '61', '新北市': '69', '臺中市': '73', '臺南市': '77',\n",
    "        '高雄市': '65', '新竹縣': '09', '苗栗縣': '13', '彰化縣': '17', '南投縣': '21', '雲林縣': '25',\n",
    "        '嘉義縣': '29', '屏東縣': '33', '花蓮縣': '41', '臺東縣': '37', '澎湖縣': '45', '金門縣': '85',\n",
    "        '連江縣': '81', '基隆市': '49', '新竹市': '53', '嘉義市': '57'\n",
    "    }\n",
    "    url = \"https://opendata.cwa.gov.tw/api/v1/rest/datastore/F-D0047-0\" + district[city]\n",
    "\n",
    "    # 資料是每3個小時更新一次，如果沒輸入時間就 default 是現在時間，取離現在時間最近的前一筆資料\n",
    "    if current_Time is None:\n",
    "        current_Time = datetime.now()\n",
    "    current_time_str = current_Time.strftime('%Y-%m-%dT%H:%M:%S')\n",
    "\n",
    "    params = {\n",
    "        \"Authorization\": \"CWA-7EBCB64E-EA36-4A13-9D77-82DC3F7E877C\",\n",
    "        \"elementName\": ['PoP6h', 'WeatherDescription', 'CI', 'T', 'AT'],\n",
    "        \"locationName\": [place],\n",
    "        \"timeFrom\": current_time_str\n",
    "    }\n",
    "\n",
    "    max_retries = 5\n",
    "    retries = 0\n",
    "    while retries < max_retries:\n",
    "        try:\n",
    "            response = requests.get(url, params=params)\n",
    "            response.raise_for_status()  # 若請求失敗會引發 HTTPError\n",
    "            data = pd.read_json(response.text)\n",
    "            data = data.loc['locations', 'records'][0]['location']\n",
    "            info_now = {}\n",
    "            for element in data[0]['weatherElement']:\n",
    "                info_now[element['description']] = element['time'][0]['elementValue'][0]['value']\n",
    "            return info_now\n",
    "        except requests.exceptions.RequestException as e:\n",
    "            print(f\"網路異常，請耐心等待\")\n",
    "            retries += 1\n",
    "            time.sleep(2)  # 等待2秒後重試\n",
    "        except (KeyError, IndexError) as e:\n",
    "            print(f\"Parsing failed: {e}. Retrying ({retries + 1}/{max_retries})...\")\n",
    "            retries += 1\n",
    "            time.sleep(2)  # 等待2秒後重試\n",
    "\n",
    "    print(\"Failed to retrieve data after multiple retries.\")\n",
    "    return None\n",
    "print(getWeatherData('臺北市', '大安區'))"
   ]
  },
  {
   "cell_type": "markdown",
   "id": "faf0b6ff",
   "metadata": {},
   "source": [
    "### 天氣 Rule-Base Model"
   ]
  },
  {
   "cell_type": "markdown",
   "id": "1147894a",
   "metadata": {},
   "source": [
    "https://health.businessweekly.com.tw/article/ARTL003004286"
   ]
  },
  {
   "cell_type": "markdown",
   "id": "a7f4dc53",
   "metadata": {},
   "source": [
    "以體感溫度為判斷標準:\n",
    "    \n",
    "* 在極端冷熱的情況下只推出符合該溫度的衣服條件\n",
    "* 在中間的溫度 (14~23) 考量因人差異的可能性較大，因此會推出該溫度加減附近的溫度衣服條件\n",
    "* 問題: 冬天衣服的選項偏少\n",
    "\n",
    "output:\n",
    "{溫度:[[衣服種類][衣服材質]]}\n",
    "\n",
    "Ex: {35: [['trousers', 'dress', 'vest_dress', 'shorts', 'skirt'], ['Cotton', 'Linen', 'Linen-blend', 'Satin', 'Denim']]}\n"
   ]
  },
  {
   "cell_type": "code",
   "execution_count": 4,
   "id": "7f3daf13",
   "metadata": {},
   "outputs": [
    {
     "name": "stdout",
     "output_type": "stream",
     "text": [
      "{35: [['trousers', 'dress', 'vest_dress', 'shorts', 'skirt'], ['Cotton', 'Linen', 'Linen-blend', 'Satin', 'Denim']]}\n"
     ]
    },
    {
     "name": "stderr",
     "output_type": "stream",
     "text": [
      "C:\\Users\\chen\\AppData\\Local\\Temp\\ipykernel_12460\\2665517621.py:34: FutureWarning: Passing literal json to 'read_json' is deprecated and will be removed in a future version. To read from a literal string, wrap it in a 'StringIO' object.\n",
      "  data = pd.read_json(response.text)\n"
     ]
    }
   ],
   "source": [
    "#Range\n",
    "#透過用Rule-Base的方式篩選出符合 attribute 及 categories 標籤的服飾，再進行配對\n",
    "\n",
    "def weather_rule_Base(input_data):\n",
    "    \n",
    "    body_temp = int(input_data['體感溫度'])\n",
    "    \n",
    "    candidate_attribute=[]\n",
    "    candidate_cloth_type=[]\n",
    "    Final_recommend={}\n",
    "    Note=[]\n",
    "    \n",
    "    breatheble_texture=['Cotton','Linen','Linen-blend','Satin','Denim']\n",
    "    thermal_texture=['Velvet','Cotton','Woven','Crochet','Faux-fur','Faux-leather']\n",
    "    Clothe_type={1:['dress','skirt','vest_dress','shorts','trousers'],2:['dress','skirt','vest_dress','shorts','trousers'],3:['long_sleeve_dress','short_sleeve_outwear','trouser','shorts'],4:['long_sleeved_shirt','trouser'],5:['long_sleeved_shirt','trouser'],6:['long_sleeved_shirt','trouser'],7:['long_sleeved_shirt','trouser'],8:['long_sleeved_shirt','trouser']}\n",
    "    Fabric_type={0:['Cotton','Denim','Linen','Linen-blend'],1:['Cotton','Chiffon','Sateen'],2:['Cotton','Knit','Nylon'],3:['Crochet','Cotton','Woven','Faux-fur'],4:['Cotton','Leather','Neoprene'],5:['Cotton','Nylon','Faux-suede'],6:['Cotton','Woven'],7:['Cotton','Faux-fur']}\n",
    "    \n",
    "    #如果是極端熱的情況 -> 材質選:透氣，服裝種類選:1度C\n",
    "    if (body_temp >= 27):\n",
    "        candidate_attribute.extend(breatheble_texture)\n",
    "        candidate_cloth_type += list(set(Clothe_type[1] + Clothe_type[2]))\n",
    "        Final_recommend[body_temp]=[candidate_cloth_type,candidate_attribute]\n",
    "    #如果是極端冷的情況 -> 材質選:保暖, 服裝種類選 7~8 度C, 建議洋蔥式穿搭(所以我額外加了發熱衣)                                      \n",
    "    elif (body_temp <= 4):\n",
    "        candidate_attribute.extend(thermal_texture)\n",
    "        candidate_cloth_type+=list(set(Clothe_type[6]+Clothe_type[7]+Clothe_type[8]))\n",
    "        Final_recommend[body_temp]=[candidate_cloth_type,candidate_attribute]\n",
    "        Note.extend(['Heat-generating clothing','underwear','down jacket'])\n",
    "    #正常情況\n",
    "    else:\n",
    "        # 比較偏熱的情況下(23~26)，材質的選擇於0-2度C,間度1度C\n",
    "        if (body_temp >= 23):\n",
    "            target = 27-body_temp\n",
    "            candidate_cloth_type.extend(Clothe_type[target])\n",
    "            for i in range(0,3):\n",
    "                Final_recommend[body_temp+i]=[candidate_cloth_type,candidate_attribute[i]]\n",
    "        \n",
    "        # 比較微涼的情況下(14~22)，材質的選擇於2-7度C,間度2度C\n",
    "        elif (body_temp >= 14 and body_temp < 23):\n",
    "            #定義一個正負三度的範圍\n",
    "\n",
    "            temp_rang = [body_temp - 3, body_temp, body_temp + 3]\n",
    "            temp_rang = sorted(list(set(value for value in temp_rang if value >= 14)))\n",
    "            \n",
    "            three_set_attribute=[]\n",
    "            for i in range(2,8,2):\n",
    "                three_set_attribute.append(list(set(Fabric_type[i] + Fabric_type[i + 1])))\n",
    "            three_set_attribute=three_set_attribute[::-1]\n",
    "            for i in range(0,len(temp_rang)):\n",
    "                target=min(8,27-temp_rang[i])\n",
    "                print(three_set_attribute)\n",
    "                Final_recommend[temp_rang[i]]=[Clothe_type[target],three_set_attribute[i]]\n",
    "                        \n",
    "        #偏冷的情況下，(5-13)\n",
    "        else:\n",
    "            candidate_attribute.extend(thermal_texture)\n",
    "            candidate_cloth_type+=Clothe_type[6]+Clothe_type[7]+Clothe_type[8]\n",
    "            Final_recommend[body_temp]=[candidate_cloth_type,candidate_attribute]\n",
    "    return Final_recommend\n",
    "                                           \n",
    "                                           \n",
    "inputdata={'體感溫度': '20', '溫度': '28', '舒適度指數': '27', '天氣預報綜合描述': '晴。降雨機率 0%。溫度攝氏28度。悶熱。西北風 平均風速<= 1級(每秒1公尺)。相對濕度86%。', '6小時降雨機率': '0'}\n",
    "print('當前適合的衣服種類及材質',weather_rule_Base(getWeatherData('臺北市', '大安區')))\n",
    "print('若為中間溫度推薦的衣服種類及材質',weather_rule_Base(inputdata))\n"
   ]
  },
  {
   "cell_type": "code",
   "execution_count": null,
   "id": "221f6aff",
   "metadata": {},
   "outputs": [],
   "source": []
  }
 ],
 "metadata": {
  "kernelspec": {
   "display_name": "Python 3 (ipykernel)",
   "language": "python",
   "name": "python3"
  },
  "language_info": {
   "codemirror_mode": {
    "name": "ipython",
    "version": 3
   },
   "file_extension": ".py",
   "mimetype": "text/x-python",
   "name": "python",
   "nbconvert_exporter": "python",
   "pygments_lexer": "ipython3",
   "version": "3.11.3"
  }
 },
 "nbformat": 4,
 "nbformat_minor": 5
}
